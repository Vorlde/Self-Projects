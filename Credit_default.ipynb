{
  "cells": [
    {
      "cell_type": "code",
      "execution_count": 3,
      "metadata": {
        "id": "Zacu_I9muh4z"
      },
      "outputs": [],
      "source": [
        "from collections import Counter\n",
        "\n",
        "# EDA\n",
        "import matplotlib.pyplot as plt\n",
        "import numpy as np\n",
        "\n",
        "# data manipulation\n",
        "import pandas as pd\n",
        "import seaborn as sns\n",
        "from imblearn.combine import SMOTETomek\n",
        "from scipy import stats\n",
        "\n",
        "# feature selection\n",
        "from sklearn.ensemble import RandomForestClassifier\n",
        "\n",
        "# algorithms\n",
        "from sklearn.linear_model import LogisticRegression\n",
        "\n",
        "# model evaluation\n",
        "from sklearn.metrics import (\n",
        "    accuracy_score,\n",
        "    brier_score_loss,\n",
        "    classification_report,\n",
        "    cohen_kappa_score,\n",
        "    f1_score,\n",
        "    precision_score,\n",
        "    recall_score,\n",
        "    roc_auc_score,\n",
        ")\n",
        "\n",
        "# machine learning\n",
        "from sklearn.model_selection import train_test_split"
      ]
    },
    {
      "cell_type": "code",
      "execution_count": 4,
      "metadata": {
        "id": "Gi1y-c9bu40o"
      },
      "outputs": [],
      "source": [
        "df = pd.read_csv(\"credit_sample.csv\")"
      ]
    },
    {
      "cell_type": "code",
      "execution_count": 5,
      "metadata": {
        "colab": {
          "base_uri": "https://localhost:8080/",
          "height": 255
        },
        "id": "3XlFekLlv6ig",
        "outputId": "c82fc7ed-777f-4d85-cccd-2319579da301"
      },
      "outputs": [
        {
          "output_type": "execute_result",
          "data": {
            "text/plain": [
              "   loan_status  person_age  person_income  person_emp_length  loan_amnt  \\\n",
              "0            0    0.015625       0.002751           0.121951   0.014493   \n",
              "1            1    0.078125       0.002751           0.024390   0.144928   \n",
              "2            1    0.046875       0.030209           0.097561   1.000000   \n",
              "3            1    0.062500       0.024757           0.195122   1.000000   \n",
              "4            1    0.015625       0.002898           0.048780   0.057971   \n",
              "\n",
              "   loan_int_rate  loan_percent_income  cb_person_cred_hist_length  \\\n",
              "0       0.321348             0.120482                    0.000000   \n",
              "1       0.418539             0.686747                    0.035714   \n",
              "2       0.551124             0.638554                    0.000000   \n",
              "3       0.497191             0.662651                    0.071429   \n",
              "4       0.096629             0.301205                    0.000000   \n",
              "\n",
              "   person_home_ownership_MORTGAGE  person_home_ownership_OTHER  ...  \\\n",
              "0                               0                            0  ...   \n",
              "1                               1                            0  ...   \n",
              "2                               0                            0  ...   \n",
              "3                               0                            0  ...   \n",
              "4                               0                            0  ...   \n",
              "\n",
              "   loan_intent_VENTURE  loan_grade_A  loan_grade_B  loan_grade_C  \\\n",
              "0                    0             0             1             0   \n",
              "1                    0             0             0             1   \n",
              "2                    0             0             0             1   \n",
              "3                    0             0             0             1   \n",
              "4                    1             1             0             0   \n",
              "\n",
              "   loan_grade_D  loan_grade_E  loan_grade_F  loan_grade_G  \\\n",
              "0             0             0             0             0   \n",
              "1             0             0             0             0   \n",
              "2             0             0             0             0   \n",
              "3             0             0             0             0   \n",
              "4             0             0             0             0   \n",
              "\n",
              "   cb_person_default_on_file_N  cb_person_default_on_file_Y  \n",
              "0                            1                            0  \n",
              "1                            1                            0  \n",
              "2                            1                            0  \n",
              "3                            0                            1  \n",
              "4                            1                            0  \n",
              "\n",
              "[5 rows x 27 columns]"
            ],
            "text/html": [
              "\n",
              "  <div id=\"df-2d5255eb-028c-4164-824d-8b9ed0d0b22b\" class=\"colab-df-container\">\n",
              "    <div>\n",
              "<style scoped>\n",
              "    .dataframe tbody tr th:only-of-type {\n",
              "        vertical-align: middle;\n",
              "    }\n",
              "\n",
              "    .dataframe tbody tr th {\n",
              "        vertical-align: top;\n",
              "    }\n",
              "\n",
              "    .dataframe thead th {\n",
              "        text-align: right;\n",
              "    }\n",
              "</style>\n",
              "<table border=\"1\" class=\"dataframe\">\n",
              "  <thead>\n",
              "    <tr style=\"text-align: right;\">\n",
              "      <th></th>\n",
              "      <th>loan_status</th>\n",
              "      <th>person_age</th>\n",
              "      <th>person_income</th>\n",
              "      <th>person_emp_length</th>\n",
              "      <th>loan_amnt</th>\n",
              "      <th>loan_int_rate</th>\n",
              "      <th>loan_percent_income</th>\n",
              "      <th>cb_person_cred_hist_length</th>\n",
              "      <th>person_home_ownership_MORTGAGE</th>\n",
              "      <th>person_home_ownership_OTHER</th>\n",
              "      <th>...</th>\n",
              "      <th>loan_intent_VENTURE</th>\n",
              "      <th>loan_grade_A</th>\n",
              "      <th>loan_grade_B</th>\n",
              "      <th>loan_grade_C</th>\n",
              "      <th>loan_grade_D</th>\n",
              "      <th>loan_grade_E</th>\n",
              "      <th>loan_grade_F</th>\n",
              "      <th>loan_grade_G</th>\n",
              "      <th>cb_person_default_on_file_N</th>\n",
              "      <th>cb_person_default_on_file_Y</th>\n",
              "    </tr>\n",
              "  </thead>\n",
              "  <tbody>\n",
              "    <tr>\n",
              "      <th>0</th>\n",
              "      <td>0</td>\n",
              "      <td>0.015625</td>\n",
              "      <td>0.002751</td>\n",
              "      <td>0.121951</td>\n",
              "      <td>0.014493</td>\n",
              "      <td>0.321348</td>\n",
              "      <td>0.120482</td>\n",
              "      <td>0.000000</td>\n",
              "      <td>0</td>\n",
              "      <td>0</td>\n",
              "      <td>...</td>\n",
              "      <td>0</td>\n",
              "      <td>0</td>\n",
              "      <td>1</td>\n",
              "      <td>0</td>\n",
              "      <td>0</td>\n",
              "      <td>0</td>\n",
              "      <td>0</td>\n",
              "      <td>0</td>\n",
              "      <td>1</td>\n",
              "      <td>0</td>\n",
              "    </tr>\n",
              "    <tr>\n",
              "      <th>1</th>\n",
              "      <td>1</td>\n",
              "      <td>0.078125</td>\n",
              "      <td>0.002751</td>\n",
              "      <td>0.024390</td>\n",
              "      <td>0.144928</td>\n",
              "      <td>0.418539</td>\n",
              "      <td>0.686747</td>\n",
              "      <td>0.035714</td>\n",
              "      <td>1</td>\n",
              "      <td>0</td>\n",
              "      <td>...</td>\n",
              "      <td>0</td>\n",
              "      <td>0</td>\n",
              "      <td>0</td>\n",
              "      <td>1</td>\n",
              "      <td>0</td>\n",
              "      <td>0</td>\n",
              "      <td>0</td>\n",
              "      <td>0</td>\n",
              "      <td>1</td>\n",
              "      <td>0</td>\n",
              "    </tr>\n",
              "    <tr>\n",
              "      <th>2</th>\n",
              "      <td>1</td>\n",
              "      <td>0.046875</td>\n",
              "      <td>0.030209</td>\n",
              "      <td>0.097561</td>\n",
              "      <td>1.000000</td>\n",
              "      <td>0.551124</td>\n",
              "      <td>0.638554</td>\n",
              "      <td>0.000000</td>\n",
              "      <td>0</td>\n",
              "      <td>0</td>\n",
              "      <td>...</td>\n",
              "      <td>0</td>\n",
              "      <td>0</td>\n",
              "      <td>0</td>\n",
              "      <td>1</td>\n",
              "      <td>0</td>\n",
              "      <td>0</td>\n",
              "      <td>0</td>\n",
              "      <td>0</td>\n",
              "      <td>1</td>\n",
              "      <td>0</td>\n",
              "    </tr>\n",
              "    <tr>\n",
              "      <th>3</th>\n",
              "      <td>1</td>\n",
              "      <td>0.062500</td>\n",
              "      <td>0.024757</td>\n",
              "      <td>0.195122</td>\n",
              "      <td>1.000000</td>\n",
              "      <td>0.497191</td>\n",
              "      <td>0.662651</td>\n",
              "      <td>0.071429</td>\n",
              "      <td>0</td>\n",
              "      <td>0</td>\n",
              "      <td>...</td>\n",
              "      <td>0</td>\n",
              "      <td>0</td>\n",
              "      <td>0</td>\n",
              "      <td>1</td>\n",
              "      <td>0</td>\n",
              "      <td>0</td>\n",
              "      <td>0</td>\n",
              "      <td>0</td>\n",
              "      <td>0</td>\n",
              "      <td>1</td>\n",
              "    </tr>\n",
              "    <tr>\n",
              "      <th>4</th>\n",
              "      <td>1</td>\n",
              "      <td>0.015625</td>\n",
              "      <td>0.002898</td>\n",
              "      <td>0.048780</td>\n",
              "      <td>0.057971</td>\n",
              "      <td>0.096629</td>\n",
              "      <td>0.301205</td>\n",
              "      <td>0.000000</td>\n",
              "      <td>0</td>\n",
              "      <td>0</td>\n",
              "      <td>...</td>\n",
              "      <td>1</td>\n",
              "      <td>1</td>\n",
              "      <td>0</td>\n",
              "      <td>0</td>\n",
              "      <td>0</td>\n",
              "      <td>0</td>\n",
              "      <td>0</td>\n",
              "      <td>0</td>\n",
              "      <td>1</td>\n",
              "      <td>0</td>\n",
              "    </tr>\n",
              "  </tbody>\n",
              "</table>\n",
              "<p>5 rows × 27 columns</p>\n",
              "</div>\n",
              "    <div class=\"colab-df-buttons\">\n",
              "\n",
              "  <div class=\"colab-df-container\">\n",
              "    <button class=\"colab-df-convert\" onclick=\"convertToInteractive('df-2d5255eb-028c-4164-824d-8b9ed0d0b22b')\"\n",
              "            title=\"Convert this dataframe to an interactive table.\"\n",
              "            style=\"display:none;\">\n",
              "\n",
              "  <svg xmlns=\"http://www.w3.org/2000/svg\" height=\"24px\" viewBox=\"0 -960 960 960\">\n",
              "    <path d=\"M120-120v-720h720v720H120Zm60-500h600v-160H180v160Zm220 220h160v-160H400v160Zm0 220h160v-160H400v160ZM180-400h160v-160H180v160Zm440 0h160v-160H620v160ZM180-180h160v-160H180v160Zm440 0h160v-160H620v160Z\"/>\n",
              "  </svg>\n",
              "    </button>\n",
              "\n",
              "  <style>\n",
              "    .colab-df-container {\n",
              "      display:flex;\n",
              "      gap: 12px;\n",
              "    }\n",
              "\n",
              "    .colab-df-convert {\n",
              "      background-color: #E8F0FE;\n",
              "      border: none;\n",
              "      border-radius: 50%;\n",
              "      cursor: pointer;\n",
              "      display: none;\n",
              "      fill: #1967D2;\n",
              "      height: 32px;\n",
              "      padding: 0 0 0 0;\n",
              "      width: 32px;\n",
              "    }\n",
              "\n",
              "    .colab-df-convert:hover {\n",
              "      background-color: #E2EBFA;\n",
              "      box-shadow: 0px 1px 2px rgba(60, 64, 67, 0.3), 0px 1px 3px 1px rgba(60, 64, 67, 0.15);\n",
              "      fill: #174EA6;\n",
              "    }\n",
              "\n",
              "    .colab-df-buttons div {\n",
              "      margin-bottom: 4px;\n",
              "    }\n",
              "\n",
              "    [theme=dark] .colab-df-convert {\n",
              "      background-color: #3B4455;\n",
              "      fill: #D2E3FC;\n",
              "    }\n",
              "\n",
              "    [theme=dark] .colab-df-convert:hover {\n",
              "      background-color: #434B5C;\n",
              "      box-shadow: 0px 1px 3px 1px rgba(0, 0, 0, 0.15);\n",
              "      filter: drop-shadow(0px 1px 2px rgba(0, 0, 0, 0.3));\n",
              "      fill: #FFFFFF;\n",
              "    }\n",
              "  </style>\n",
              "\n",
              "    <script>\n",
              "      const buttonEl =\n",
              "        document.querySelector('#df-2d5255eb-028c-4164-824d-8b9ed0d0b22b button.colab-df-convert');\n",
              "      buttonEl.style.display =\n",
              "        google.colab.kernel.accessAllowed ? 'block' : 'none';\n",
              "\n",
              "      async function convertToInteractive(key) {\n",
              "        const element = document.querySelector('#df-2d5255eb-028c-4164-824d-8b9ed0d0b22b');\n",
              "        const dataTable =\n",
              "          await google.colab.kernel.invokeFunction('convertToInteractive',\n",
              "                                                    [key], {});\n",
              "        if (!dataTable) return;\n",
              "\n",
              "        const docLinkHtml = 'Like what you see? Visit the ' +\n",
              "          '<a target=\"_blank\" href=https://colab.research.google.com/notebooks/data_table.ipynb>data table notebook</a>'\n",
              "          + ' to learn more about interactive tables.';\n",
              "        element.innerHTML = '';\n",
              "        dataTable['output_type'] = 'display_data';\n",
              "        await google.colab.output.renderOutput(dataTable, element);\n",
              "        const docLink = document.createElement('div');\n",
              "        docLink.innerHTML = docLinkHtml;\n",
              "        element.appendChild(docLink);\n",
              "      }\n",
              "    </script>\n",
              "  </div>\n",
              "\n",
              "\n",
              "<div id=\"df-936a0137-d8cf-4951-a91f-7c3f60f57dc1\">\n",
              "  <button class=\"colab-df-quickchart\" onclick=\"quickchart('df-936a0137-d8cf-4951-a91f-7c3f60f57dc1')\"\n",
              "            title=\"Suggest charts.\"\n",
              "            style=\"display:none;\">\n",
              "\n",
              "<svg xmlns=\"http://www.w3.org/2000/svg\" height=\"24px\"viewBox=\"0 0 24 24\"\n",
              "     width=\"24px\">\n",
              "    <g>\n",
              "        <path d=\"M19 3H5c-1.1 0-2 .9-2 2v14c0 1.1.9 2 2 2h14c1.1 0 2-.9 2-2V5c0-1.1-.9-2-2-2zM9 17H7v-7h2v7zm4 0h-2V7h2v10zm4 0h-2v-4h2v4z\"/>\n",
              "    </g>\n",
              "</svg>\n",
              "  </button>\n",
              "\n",
              "<style>\n",
              "  .colab-df-quickchart {\n",
              "    background-color: #E8F0FE;\n",
              "    border: none;\n",
              "    border-radius: 50%;\n",
              "    cursor: pointer;\n",
              "    display: none;\n",
              "    fill: #1967D2;\n",
              "    height: 32px;\n",
              "    padding: 0 0 0 0;\n",
              "    width: 32px;\n",
              "  }\n",
              "\n",
              "  .colab-df-quickchart:hover {\n",
              "    background-color: #E2EBFA;\n",
              "    box-shadow: 0px 1px 2px rgba(60, 64, 67, 0.3), 0px 1px 3px 1px rgba(60, 64, 67, 0.15);\n",
              "    fill: #174EA6;\n",
              "  }\n",
              "\n",
              "  [theme=dark] .colab-df-quickchart {\n",
              "    background-color: #3B4455;\n",
              "    fill: #D2E3FC;\n",
              "  }\n",
              "\n",
              "  [theme=dark] .colab-df-quickchart:hover {\n",
              "    background-color: #434B5C;\n",
              "    box-shadow: 0px 1px 3px 1px rgba(0, 0, 0, 0.15);\n",
              "    filter: drop-shadow(0px 1px 2px rgba(0, 0, 0, 0.3));\n",
              "    fill: #FFFFFF;\n",
              "  }\n",
              "</style>\n",
              "\n",
              "  <script>\n",
              "    async function quickchart(key) {\n",
              "      const charts = await google.colab.kernel.invokeFunction(\n",
              "          'suggestCharts', [key], {});\n",
              "    }\n",
              "    (() => {\n",
              "      let quickchartButtonEl =\n",
              "        document.querySelector('#df-936a0137-d8cf-4951-a91f-7c3f60f57dc1 button');\n",
              "      quickchartButtonEl.style.display =\n",
              "        google.colab.kernel.accessAllowed ? 'block' : 'none';\n",
              "    })();\n",
              "  </script>\n",
              "</div>\n",
              "    </div>\n",
              "  </div>\n"
            ]
          },
          "metadata": {},
          "execution_count": 5
        }
      ],
      "source": [
        "df.head()"
      ]
    },
    {
      "cell_type": "code",
      "execution_count": 6,
      "metadata": {
        "colab": {
          "base_uri": "https://localhost:8080/"
        },
        "id": "lrirzw0Bv8Lb",
        "outputId": "9c1c10d9-1fbf-4267-cab4-9b5e3de41d8c"
      },
      "outputs": [
        {
          "output_type": "execute_result",
          "data": {
            "text/plain": [
              "(29459, 27)"
            ]
          },
          "metadata": {},
          "execution_count": 6
        }
      ],
      "source": [
        "df.shape"
      ]
    },
    {
      "cell_type": "code",
      "execution_count": 7,
      "metadata": {
        "colab": {
          "base_uri": "https://localhost:8080/"
        },
        "id": "w-15jksHMAPJ",
        "outputId": "4cff2237-d357-4119-ef8e-08bc21cd4413"
      },
      "outputs": [
        {
          "output_type": "execute_result",
          "data": {
            "text/plain": [
              "loan_status                         int64\n",
              "person_age                        float64\n",
              "person_income                     float64\n",
              "person_emp_length                 float64\n",
              "loan_amnt                         float64\n",
              "loan_int_rate                     float64\n",
              "loan_percent_income               float64\n",
              "cb_person_cred_hist_length        float64\n",
              "person_home_ownership_MORTGAGE      int64\n",
              "person_home_ownership_OTHER         int64\n",
              "person_home_ownership_OWN           int64\n",
              "person_home_ownership_RENT          int64\n",
              "loan_intent_DEBTCONSOLIDATION       int64\n",
              "loan_intent_EDUCATION               int64\n",
              "loan_intent_HOMEIMPROVEMENT         int64\n",
              "loan_intent_MEDICAL                 int64\n",
              "loan_intent_PERSONAL                int64\n",
              "loan_intent_VENTURE                 int64\n",
              "loan_grade_A                        int64\n",
              "loan_grade_B                        int64\n",
              "loan_grade_C                        int64\n",
              "loan_grade_D                        int64\n",
              "loan_grade_E                        int64\n",
              "loan_grade_F                        int64\n",
              "loan_grade_G                        int64\n",
              "cb_person_default_on_file_N         int64\n",
              "cb_person_default_on_file_Y         int64\n",
              "dtype: object"
            ]
          },
          "metadata": {},
          "execution_count": 7
        }
      ],
      "source": [
        "df.dtypes"
      ]
    },
    {
      "cell_type": "code",
      "execution_count": 8,
      "metadata": {
        "colab": {
          "base_uri": "https://localhost:8080/"
        },
        "id": "ckymAGvrPC0v",
        "outputId": "4ad770cd-d9fc-46f5-bd39-98dfad0a1266"
      },
      "outputs": [
        {
          "output_type": "execute_result",
          "data": {
            "text/plain": [
              "0    22996\n",
              "1     6463\n",
              "Name: loan_status, dtype: int64"
            ]
          },
          "metadata": {},
          "execution_count": 8
        }
      ],
      "source": [
        "df.loan_status.value_counts()"
      ]
    },
    {
      "cell_type": "markdown",
      "metadata": {
        "id": "5kyLkiaA5Obf"
      },
      "source": [
        "Clearly, the data are highly imbalanced."
      ]
    },
    {
      "cell_type": "code",
      "execution_count": 9,
      "metadata": {
        "colab": {
          "base_uri": "https://localhost:8080/",
          "height": 607
        },
        "id": "1EwHVM6q5k1P",
        "outputId": "c26eedb1-ce52-4e31-d129-6779121ec62d"
      },
      "outputs": [
        {
          "output_type": "display_data",
          "data": {
            "text/plain": [
              "<Figure size 1200x600 with 1 Axes>"
            ],
            "image/png": "[encoded data removed]"
          },
          "metadata": {}
        }
      ],
      "source": [
        "# plots count\n",
        "ax = sns.countplot(x=df[\"loan_status\"])\n",
        "\n",
        "# sets the figure size in inches\n",
        "ax.figure.set_size_inches(12, 6)\n",
        "\n",
        "# set plot features\n",
        "ax.set_title(\"Count for Loan Status\", fontsize=16)\n",
        "ax.set_ylabel(\"Count\", fontsize=14)\n",
        "ax.set_xlabel(\"Loan status\", fontsize=14)\n",
        "\n",
        "# set `xticks` labels\n",
        "plt.xticks([0, 1], [\"Non-Default\", \"Default\"])\n",
        "\n",
        "plt.suptitle(\n",
        "    \"Fig. 1: Top: A bar plot of good versus bad loans. The graph shows that the dataset is highly imbalanced.\",\n",
        "    fontweight=\"bold\",\n",
        "    horizontalalignment=\"right\",\n",
        ")\n",
        "\n",
        "# displays plot\n",
        "plt.show()"
      ]
    },
    {
      "cell_type": "code",
      "execution_count": 10,
      "metadata": {
        "colab": {
          "base_uri": "https://localhost:8080/"
        },
        "id": "AcfC6r6E56P7",
        "outputId": "c35bb063-4eff-4d00-fd95-0bc3144ef33b"
      },
      "outputs": [
        {
          "output_type": "stream",
          "name": "stdout",
          "text": [
            "Number of default cases: 6463\n",
            "This is equivalent to 21.94% of the total loans\n",
            "\n",
            "Number of non-defualt cases: 22996\n",
            "This is equivalent to 78.06% of the total loans\n"
          ]
        }
      ],
      "source": [
        "# separating the data set for easier analysis\n",
        "df_default = df[df[\"loan_status\"] == 1].copy()\n",
        "df_non_default = df[df[\"loan_status\"] == 0].copy()\n",
        "\n",
        "# counts the number of defaults and non-defaults\n",
        "total_default = df_default.shape[0]\n",
        "total_non_default = df_non_default.shape[0]\n",
        "total_loans = df.shape[0]\n",
        "\n",
        "print(\"Number of default cases:\", total_default)\n",
        "print(\n",
        "    \"This is equivalent to {:.2f}% of the total loans\".format(\n",
        "        (total_default / total_loans) * 100\n",
        "    )\n",
        ")\n",
        "\n",
        "print(\"\\nNumber of non-defualt cases:\", total_non_default)\n",
        "print(\n",
        "    \"This is equivalent to {:.2f}% of the total loans\".format(\n",
        "        (total_non_default / total_loans) * 100\n",
        "    )\n",
        ")"
      ]
    },
    {
      "cell_type": "code",
      "execution_count": 11,
      "metadata": {
        "id": "fCiNZ4oOQ6gP"
      },
      "outputs": [],
      "source": [
        "# creates the X and y data sets\n",
        "X = df.drop(\"loan_status\", axis=1).values\n",
        "y = df[\"loan_status\"].values\n",
        "\n",
        "# splits into training and test set\n",
        "X_train, X_test, y_train, y_test = train_test_split(\n",
        "    X, y, test_size=0.25, random_state=2022, stratify=y\n",
        ")"
      ]
    },
    {
      "cell_type": "markdown",
      "metadata": {
        "id": "slMI0NuuSAOz"
      },
      "source": [
        "### **2.4 Balancing Data for Training**\n",
        "\n",
        "Since we saw that the data was highly imbalanced, we performed oversampling with synthetic minority over-sampling technique (SMOTE) with the package below."
      ]
    },
    {
      "cell_type": "code",
      "execution_count": 12,
      "metadata": {
        "colab": {
          "base_uri": "https://localhost:8080/"
        },
        "id": "6lpV5HcsRdtn",
        "outputId": "f86ed041-edec-4620-a166-ec7554dc240d"
      },
      "outputs": [
        {
          "output_type": "stream",
          "name": "stdout",
          "text": [
            "Before balancing: Counter({0: 17247, 1: 4847})\n"
          ]
        },
        {
          "output_type": "stream",
          "name": "stderr",
          "text": [
            "/usr/local/lib/python3.10/dist-packages/imblearn/over_sampling/_smote/base.py:336: FutureWarning: The parameter `n_jobs` has been deprecated in 0.10 and will be removed in 0.12. You can pass an nearest neighbors estimator where `n_jobs` is already set instead.\n",
            "  warnings.warn(\n"
          ]
        },
        {
          "output_type": "stream",
          "name": "stdout",
          "text": [
            "After balancing: Counter({1: 16988, 0: 16988})\n"
          ]
        }
      ],
      "source": [
        "# counts the number of classes before oversampling\n",
        "print(\"Before balancing:\", Counter(y_train))\n",
        "\n",
        "# defines the resampler\n",
        "resampler = SMOTETomek(random_state=2022, n_jobs=-1)\n",
        "\n",
        "# transforms the data set\n",
        "X_balanced, y_balanced = resampler.fit_resample(X_train, y_train)\n",
        "\n",
        "# counts the number of classes after oversampling\n",
        "print(\"After balancing:\", Counter(y_balanced))"
      ]
    },
    {
      "cell_type": "code",
      "execution_count": 13,
      "metadata": {
        "colab": {
          "base_uri": "https://localhost:8080/",
          "height": 408
        },
        "id": "aB62tUf_SMME",
        "outputId": "d3742ca5-9f12-4389-a2e1-c7f8116739f6"
      },
      "outputs": [
        {
          "output_type": "display_data",
          "data": {
            "text/plain": [
              "<Figure size 1200x400 with 2 Axes>"
            ],
            "image/png": "[encoded data removed]"
          },
          "metadata": {}
        }
      ],
      "source": [
        "# plots before and after SMOTE\n",
        "plt.figure(figsize=(12, 4))\n",
        "\n",
        "plt.subplot(1, 2, 1)\n",
        "sns.countplot(x=y_train)\n",
        "plt.title(\"Before SMOTE\")\n",
        "\n",
        "plt.subplot(1, 2, 2)\n",
        "sns.countplot(x=y_balanced)\n",
        "plt.title(\"After SMOTE\")\n",
        "\n",
        "plt.suptitle(\n",
        "    \"Fig. 2: Top: A plot of the defaulters versus non-defaulters before resampling and after resampling\",\n",
        "    fontweight=\"bold\",\n",
        "    horizontalalignment=\"right\",\n",
        ")\n",
        "\n",
        "plt.show()"
      ]
    },
    {
      "cell_type": "code",
      "execution_count": 14,
      "metadata": {
        "colab": {
          "base_uri": "https://localhost:8080/"
        },
        "id": "7dEbTTYFSpEY",
        "outputId": "2681511b-7fb8-4cf1-e80c-030e35d0cc73"
      },
      "outputs": [
        {
          "output_type": "stream",
          "name": "stdout",
          "text": [
            "Total records BEFORE: 22094\n",
            "Total records AFTER: 33976\n",
            "Difference = -11882\n"
          ]
        }
      ],
      "source": [
        "print(\"Total records BEFORE:\", X_train.shape[0])\n",
        "print(\"Total records AFTER:\", X_balanced.shape[0])\n",
        "print(\"Difference =\", X_train.shape[0] - X_balanced.shape[0])"
      ]
    },
    {
      "cell_type": "code",
      "execution_count": 15,
      "metadata": {
        "id": "_kHxxCtzSyH7"
      },
      "outputs": [],
      "source": [
        "# Set the threshold for defaults\n",
        "THRESHOLD = 0.50"
      ]
    },
    {
      "cell_type": "code",
      "execution_count": 16,
      "metadata": {
        "id": "htGwUcULTFdW"
      },
      "outputs": [],
      "source": [
        "# list of classifiers\n",
        "classifiers = [\n",
        "    LogisticRegression(max_iter=220, random_state=2022),\n",
        "    RandomForestClassifier(random_state=2022),\n",
        "]"
      ]
    },
    {
      "cell_type": "markdown",
      "metadata": {
        "id": "U0N5j6xd-H5w"
      },
      "source": [
        "The function below trains the models on a dataset and evaluates their performance on unseen data."
      ]
    },
    {
      "cell_type": "code",
      "execution_count": 17,
      "metadata": {
        "id": "sfQgPi1aW1zQ"
      },
      "outputs": [],
      "source": [
        "def calculate_model_metrics(model, X_test, y_test, model_probs, threshold):\n",
        "    \"\"\"\n",
        "    Calculates Accuracy, F1-Score, PR AUC\n",
        "    \"\"\"\n",
        "    # keeps probabilities for the positive outcome only\n",
        "    probs = pd.DataFrame(model_probs[:, 1], columns=[\"prob\"])\n",
        "\n",
        "    # applies the threshold\n",
        "    y_pred = probs[\"prob\"].apply(lambda x: 1 if x > threshold else 0)\n",
        "\n",
        "    # calculates f1-score\n",
        "    f1 = f1_score(y_test, y_pred)\n",
        "\n",
        "    # calculates accuracy\n",
        "    accuracy = accuracy_score(y_test, y_pred)\n",
        "\n",
        "    # calculates kappa score\n",
        "    kappa = cohen_kappa_score(y_test, y_pred)\n",
        "\n",
        "    # calculates AUC\n",
        "    auc_score = roc_auc_score(y_test, probs)\n",
        "\n",
        "    # calculates the precision\n",
        "    precision = precision_score(y_test, y_pred)\n",
        "\n",
        "    # calculates the recall\n",
        "    recall = recall_score(y_test, y_pred)\n",
        "\n",
        "    return accuracy, kappa, f1, auc_score, precision, recall"
      ]
    },
    {
      "cell_type": "code",
      "execution_count": 18,
      "metadata": {
        "id": "ErwtJWFDTRtg"
      },
      "outputs": [],
      "source": [
        "def get_classifiers_performance(\n",
        "    X_train, X_test, y_train, y_test, threshold, classifiers\n",
        "):\n",
        "    # creates empty data frame\n",
        "    df_performance = pd.DataFrame()\n",
        "\n",
        "    for clf in classifiers:\n",
        "        print(\"Training \" + type(clf).__name__ + \"...\")\n",
        "        # fits the classifier to training data\n",
        "        clf.fit(X_train, y_train)\n",
        "\n",
        "        # predict the probabilities\n",
        "        clf_probs = clf.predict_proba(X_test)\n",
        "\n",
        "        # calculates model metrics\n",
        "        (\n",
        "            clf_accuracy,\n",
        "            clf_kappa,\n",
        "            clf_f1,\n",
        "            clf_auc,\n",
        "            clf_precision,\n",
        "            clf_recall,\n",
        "        ) = calculate_model_metrics(clf, X_test, y_test, clf_probs, threshold)\n",
        "\n",
        "        # creates a dict\n",
        "        clf_dict = {\n",
        "            \"model\": [type(clf).__name__, \"---\"],\n",
        "            \"precision\": [clf_precision, np.nan],\n",
        "            \"recall\": [clf_recall, np.nan],\n",
        "            \"f1-Score\": [clf_f1, np.nan],\n",
        "            \"ROC AUC\": [clf_auc, np.nan],\n",
        "            \"accuracy\": [clf_accuracy, np.nan],\n",
        "            \"cohen kappa\": [clf_kappa, np.nan],\n",
        "        }\n",
        "\n",
        "        # concatenate Data Frames\n",
        "        df_performance = pd.concat([df_performance, pd.DataFrame(clf_dict)])\n",
        "\n",
        "    # resets Data Frame index\n",
        "    df_performance = df_performance.reset_index()\n",
        "\n",
        "    # drops index\n",
        "    df_performance.drop(\"index\", axis=1, inplace=True)\n",
        "\n",
        "    # gets only the odd numbered rows\n",
        "    rows_to_drop = np.arange(1, len(classifiers) * 2, 2)\n",
        "\n",
        "    # drops unwanted rows that have no data\n",
        "    df_performance.drop(rows_to_drop, inplace=True)\n",
        "\n",
        "    # returns performance summary\n",
        "    return df_performance"
      ]
    },
    {
      "cell_type": "code",
      "execution_count": 19,
      "metadata": {
        "colab": {
          "base_uri": "https://localhost:8080/",
          "height": 148
        },
        "id": "YmgOFtlcWjAK",
        "outputId": "8bb93f8f-60c3-409b-e8b9-45553e4d244c"
      },
      "outputs": [
        {
          "output_type": "stream",
          "name": "stdout",
          "text": [
            "Training LogisticRegression...\n",
            "Training RandomForestClassifier...\n"
          ]
        },
        {
          "output_type": "execute_result",
          "data": {
            "text/plain": [
              "<pandas.io.formats.style.Styler at 0x7cc7e9858d90>"
            ],
            "text/html": [
              "<style type=\"text/css\">\n",
              "#T_bbb95_row0_col2, #T_bbb95_row1_col0, #T_bbb95_row1_col1, #T_bbb95_row1_col3, #T_bbb95_row1_col4, #T_bbb95_row1_col5, #T_bbb95_row1_col6 {\n",
              "  background-color: yellow;\n",
              "}\n",
              "</style>\n",
              "<table id=\"T_bbb95\" class=\"dataframe\">\n",
              "  <thead>\n",
              "    <tr>\n",
              "      <th class=\"blank level0\" >&nbsp;</th>\n",
              "      <th id=\"T_bbb95_level0_col0\" class=\"col_heading level0 col0\" >model</th>\n",
              "      <th id=\"T_bbb95_level0_col1\" class=\"col_heading level0 col1\" >precision</th>\n",
              "      <th id=\"T_bbb95_level0_col2\" class=\"col_heading level0 col2\" >recall</th>\n",
              "      <th id=\"T_bbb95_level0_col3\" class=\"col_heading level0 col3\" >f1-Score</th>\n",
              "      <th id=\"T_bbb95_level0_col4\" class=\"col_heading level0 col4\" >ROC AUC</th>\n",
              "      <th id=\"T_bbb95_level0_col5\" class=\"col_heading level0 col5\" >accuracy</th>\n",
              "      <th id=\"T_bbb95_level0_col6\" class=\"col_heading level0 col6\" >cohen kappa</th>\n",
              "    </tr>\n",
              "  </thead>\n",
              "  <tbody>\n",
              "    <tr>\n",
              "      <th id=\"T_bbb95_level0_row0\" class=\"row_heading level0 row0\" >0</th>\n",
              "      <td id=\"T_bbb95_row0_col0\" class=\"data row0 col0\" >LogisticRegression</td>\n",
              "      <td id=\"T_bbb95_row0_col1\" class=\"data row0 col1\" >0.556000</td>\n",
              "      <td id=\"T_bbb95_row0_col2\" class=\"data row0 col2\" >0.774134</td>\n",
              "      <td id=\"T_bbb95_row0_col3\" class=\"data row0 col3\" >0.647181</td>\n",
              "      <td id=\"T_bbb95_row0_col4\" class=\"data row0 col4\" >0.871817</td>\n",
              "      <td id=\"T_bbb95_row0_col5\" class=\"data row0 col5\" >0.814800</td>\n",
              "      <td id=\"T_bbb95_row0_col6\" class=\"data row0 col6\" >0.526163</td>\n",
              "    </tr>\n",
              "    <tr>\n",
              "      <th id=\"T_bbb95_level0_row1\" class=\"row_heading level0 row1\" >2</th>\n",
              "      <td id=\"T_bbb95_row1_col0\" class=\"data row1 col0\" >RandomForestClassifier</td>\n",
              "      <td id=\"T_bbb95_row1_col1\" class=\"data row1 col1\" >0.897358</td>\n",
              "      <td id=\"T_bbb95_row1_col2\" class=\"data row1 col2\" >0.735767</td>\n",
              "      <td id=\"T_bbb95_row1_col3\" class=\"data row1 col3\" >0.808569</td>\n",
              "      <td id=\"T_bbb95_row1_col4\" class=\"data row1 col4\" >0.927707</td>\n",
              "      <td id=\"T_bbb95_row1_col5\" class=\"data row1 col5\" >0.923557</td>\n",
              "      <td id=\"T_bbb95_row1_col6\" class=\"data row1 col6\" >0.761395</td>\n",
              "    </tr>\n",
              "  </tbody>\n",
              "</table>\n"
            ]
          },
          "metadata": {},
          "execution_count": 19
        }
      ],
      "source": [
        "# calculates classifiers performance\n",
        "df_performances = get_classifiers_performance(\n",
        "    X_balanced, X_test, y_balanced, y_test, THRESHOLD, classifiers\n",
        ")\n",
        "# highlight max values for each column\n",
        "df_performances.style.highlight_max()"
      ]
    },
    {
      "cell_type": "code",
      "execution_count": 20,
      "metadata": {
        "id": "njQLPU9_aBmp"
      },
      "outputs": [],
      "source": [
        "# instantiates the classifiers\n",
        "lr_clf = LogisticRegression(max_iter=220, random_state=2022)\n",
        "rf_clf = RandomForestClassifier(random_state=2022)\n",
        "\n",
        "# trains the classifiers\n",
        "lr_clf.fit(X_balanced, y_balanced)\n",
        "rf_clf.fit(X_balanced, y_balanced)\n",
        "\n",
        "# store the predicted probabilities for class 1\n",
        "y_pred_lr_prob = lr_clf.predict_proba(X_test)[:, 1]\n",
        "y_pred_rf_prob = rf_clf.predict_proba(X_test)[:, 1]"
      ]
    },
    {
      "cell_type": "code",
      "execution_count": 21,
      "metadata": {
        "colab": {
          "base_uri": "https://localhost:8080/",
          "height": 582
        },
        "id": "Inweh4G5bHde",
        "outputId": "dc73ccaa-621e-4eda-f5cf-c2de91e079c8"
      },
      "outputs": [
        {
          "output_type": "display_data",
          "data": {
            "text/plain": [
              "<Figure size 1000x600 with 1 Axes>"
            ],
            "image/png": "[encoded data removed]"
          },
          "metadata": {}
        }
      ],
      "source": [
        "# sets plot size\n",
        "plt.figure(figsize=(10, 6))\n",
        "\n",
        "# plots\n",
        "sns.kdeplot(y_pred_lr_prob, label=\"Logistic Regression\")\n",
        "sns.kdeplot(y_pred_rf_prob, label=\"Random Forest\")\n",
        "\n",
        "# sets the plot features\n",
        "plt.title(\"Probability Density Plot\", fontsize=14)\n",
        "plt.legend()\n",
        "\n",
        "plt.suptitle(\n",
        "    \"Fig. 3: Top: A probability density plot for the predicted performance of customers\",\n",
        "    fontweight=\"bold\",\n",
        "    horizontalalignment=\"right\",\n",
        ")\n",
        "\n",
        "# displays the plot\n",
        "plt.show()"
      ]
    },
    {
      "cell_type": "code",
      "execution_count": 22,
      "metadata": {
        "colab": {
          "base_uri": "https://localhost:8080/",
          "height": 452
        },
        "id": "tdJEhjx1bStA",
        "outputId": "08ced3da-65d8-405b-b967-334a628a9aff"
      },
      "outputs": [
        {
          "output_type": "stream",
          "name": "stderr",
          "text": [
            "<ipython-input-22-440808382655>:8: MatplotlibDeprecationWarning: Auto-removal of overlapping axes is deprecated since 3.6 and will be removed two minor releases later; explicitly call ax.remove() as needed.\n",
            "  plt.subplot(2, 2, 1)\n"
          ]
        },
        {
          "output_type": "display_data",
          "data": {
            "text/plain": [
              "<Figure size 1200x800 with 2 Axes>"
            ],
            "image/png": "[encoded data removed]"
          },
          "metadata": {}
        }
      ],
      "source": [
        "# set axes\n",
        "fig, ax = plt.subplots()\n",
        "\n",
        "# set fig size\n",
        "ax.figure.set_size_inches(12, 8)\n",
        "\n",
        "# plot probability - Logistic Regression\n",
        "plt.subplot(2, 2, 1)\n",
        "ax = stats.probplot(y_pred_lr_prob, plot=plt)\n",
        "\n",
        "# plot probability - Random Forest\n",
        "plt.subplot(2, 2, 2)\n",
        "ax = stats.probplot(y_pred_rf_prob, plot=plt)\n",
        "\n",
        "plt.subplots_adjust(wspace=0.3)\n",
        "plt.subplots_adjust(hspace=0.4)\n",
        "\n",
        "plt.suptitle(\n",
        "    \"Fig. 4: Top: Comparing model performance and theoretical expectation\",\n",
        "    fontweight=\"bold\",\n",
        "    horizontalalignment=\"right\",\n",
        ")\n",
        "\n",
        "# displays the plot\n",
        "plt.show()"
      ]
    },
    {
      "cell_type": "markdown",
      "metadata": {
        "id": "enzOWPfoAZxr"
      },
      "source": [
        "The data seem to follow the theoretical distribution when we use the two models."
      ]
    },
    {
      "cell_type": "code",
      "execution_count": 23,
      "metadata": {
        "colab": {
          "base_uri": "https://localhost:8080/"
        },
        "id": "p5RPsG5Mbl18",
        "outputId": "afc0e0d1-e1c5-4fab-a9d8-cbe362f6903f"
      },
      "outputs": [
        {
          "output_type": "stream",
          "name": "stdout",
          "text": [
            "Brier Score Loss (Logistic Regression): 0.14\n",
            "Brier Score Loss (Random Forest): 0.07\n"
          ]
        }
      ],
      "source": [
        "# calculates the Brier Score Loss\n",
        "bsl_lr = brier_score_loss(y_test, y_pred_lr_prob, pos_label=1)\n",
        "bsl_rf = brier_score_loss(y_test, y_pred_rf_prob, pos_label=1)\n",
        "\n",
        "# prints the calculated Brier Score Loss for each algorithm probability\n",
        "print(f\"Brier Score Loss (Logistic Regression): {np.round(bsl_lr, 2)}\")\n",
        "print(f\"Brier Score Loss (Random Forest): {np.round(bsl_rf, 2)}\")"
      ]
    },
    {
      "cell_type": "markdown",
      "metadata": {
        "id": "opV6qm1iBDcb"
      },
      "source": [
        "The smaller the value of the Brier score, the better.  The Brier score is made up of refinement loss and calibration loss. Clearly, we can see that random forest performs better since it give us a lower Brier score."
      ]
    },
    {
      "cell_type": "code",
      "execution_count": 24,
      "metadata": {
        "colab": {
          "base_uri": "https://localhost:8080/"
        },
        "id": "OXMRQetbb_nY",
        "outputId": "64783cd2-3350-4ead-ba88-9a0e338e3d0d"
      },
      "outputs": [
        {
          "output_type": "stream",
          "name": "stdout",
          "text": [
            "Classification Report for LogisticRegression\n",
            "              precision    recall  f1-score   support\n",
            "\n",
            "           0       0.93      0.83      0.87      5749\n",
            "           1       0.56      0.77      0.65      1616\n",
            "\n",
            "    accuracy                           0.81      7365\n",
            "   macro avg       0.74      0.80      0.76      7365\n",
            "weighted avg       0.85      0.81      0.82      7365\n",
            "\n",
            "\n",
            "Classification Report for RandomForestClassifier\n",
            "              precision    recall  f1-score   support\n",
            "\n",
            "           0       0.93      0.98      0.95      5749\n",
            "           1       0.90      0.74      0.81      1616\n",
            "\n",
            "    accuracy                           0.92      7365\n",
            "   macro avg       0.91      0.86      0.88      7365\n",
            "weighted avg       0.92      0.92      0.92      7365\n",
            "\n"
          ]
        }
      ],
      "source": [
        "# makes predictions\n",
        "y_pred_lr = lr_clf.predict(X_test)\n",
        "y_pred_rf = rf_clf.predict(X_test)\n",
        "\n",
        "print(\"Classification Report for \" + type(lr_clf).__name__)\n",
        "print(classification_report(y_test, y_pred_lr))\n",
        "\n",
        "print(\"\\nClassification Report for \" + type(rf_clf).__name__)\n",
        "print(classification_report(y_test, y_pred_rf))"
      ]
    },
    {
      "cell_type": "markdown",
      "metadata": {
        "id": "e7jEcVmuBwWa"
      },
      "source": [
        "We observe that random forest performs better than logistic regression on unseen data. You are tasked to plot the receiver operation curve and the confusion matrix of the two models.\n",
        "\n",
        "In the next step we will train deep learning models to estimate probability of default.\n",
        "\n",
        "### **Deep Learning**\n",
        "\n",
        "We start by importing `keras` classifier to run the model."
      ]
    },
    {
      "cell_type": "code",
      "execution_count": 25,
      "metadata": {
        "id": "hVvpGueU_mdx"
      },
      "outputs": [],
      "source": [
        "import logging\n",
        "\n",
        "import tensorflow as tf\n",
        "from tensorflow import keras\n",
        "from tensorflow.keras.layers import Dense, Dropout\n",
        "from tensorflow.keras.wrappers.scikit_learn import KerasClassifier\n",
        "\n",
        "tf.get_logger().setLevel(logging.ERROR)"
      ]
    },
    {
      "cell_type": "markdown",
      "metadata": {
        "id": "otraapKhHJsE"
      },
      "source": [
        "We then write a function with the model layers and activation functions at each layer"
      ]
    },
    {
      "cell_type": "code",
      "execution_count": 26,
      "metadata": {
        "id": "X3ExiYq2DYyF"
      },
      "outputs": [],
      "source": [
        "def model_function(dropout_rate, verbose=0):\n",
        "    # Select a `keras` model, sequential function allows us to specify our neural network architecture\n",
        "    model = keras.Sequential()\n",
        "    # First Layer is dense implying that the features are connected to every single node in the first hidden layer\n",
        "    model.add(Dense(128, kernel_initializer=\"normal\", activation=\"relu\", input_dim=26))\n",
        "    model.add(Dense(64, kernel_initializer=\"normal\", activation=\"relu\"))\n",
        "    model.add(Dense(8, kernel_initializer=\"normal\", activation=\"relu\"))\n",
        "    # Drop out is added to ignore irrelevant neurons\n",
        "    model.add(Dropout(dropout_rate))\n",
        "    # We add sigmoid to classify the target\n",
        "    model.add(Dense(1, activation=\"sigmoid\"))\n",
        "    # the loss function is binary cross entropy because the problem is a binary classification\n",
        "    model.compile(loss=\"binary_crossentropy\", optimizer=\"rmsprop\")\n",
        "    return model"
      ]
    },
    {
      "cell_type": "markdown",
      "metadata": {
        "id": "giGsXUwVQxKy"
      },
      "source": [
        "The next cell defines the model parameters and hyperparameters, train the model and validate the model on test dataset."
      ]
    },
    {
      "cell_type": "code",
      "execution_count": null,
      "metadata": {
        "id": "Jc9VenRXD5K4",
        "colab": {
          "base_uri": "https://localhost:8080/"
        },
        "outputId": "8c8ff171-d224-4661-9f0c-3b58b0a68b79"
      },
      "outputs": [
        {
          "output_type": "stream",
          "name": "stderr",
          "text": [
            "<ipython-input-27-3de0a402f073>:1: DeprecationWarning: KerasClassifier is deprecated, use Sci-Keras (https://github.com/adriangb/scikeras) instead. See https://www.adriangb.com/scikeras/stable/migration.html for help migrating.\n",
            "  model = KerasClassifier(\n"
          ]
        }
      ],
      "source": [
        "model = KerasClassifier(\n",
        "    build_fn=model_function, dropout_rate=0.2, verbose=0, batch_size=50, epochs=100\n",
        ")\n",
        "model.fit(X_train, y_train)\n",
        "y_predict_dl = model.predict(X_test)"
      ]
    },
    {
      "cell_type": "markdown",
      "metadata": {
        "id": "yp9ID-ezRJBh"
      },
      "source": [
        "We now evaluate the model using several metrics"
      ]
    },
    {
      "cell_type": "code",
      "execution_count": null,
      "metadata": {
        "id": "G6vEuT7nRHbt"
      },
      "outputs": [],
      "source": [
        "ROC_AUC_metric = roc_auc_score(y_test, pd.DataFrame(y_predict_dl.flatten()))\n",
        "print(\"Deep Learning ROC AUC is {:.4f}\".format(ROC_AUC_metric))"
      ]
    },
    {
      "cell_type": "code",
      "execution_count": null,
      "metadata": {
        "id": "8bpQdG6CP3ot"
      },
      "outputs": [],
      "source": [
        "print(\"\\nClassification Report for deep learning model\")\n",
        "print(classification_report(y_test, y_predict_dl.flatten()))"
      ]
    },
    {
      "cell_type": "code",
      "execution_count": null,
      "metadata": {
        "id": "2UnlQHdLQVoe"
      },
      "outputs": [],
      "source": [
        "print(\"\\nThe brier score is equal to \")\n",
        "brier_score_loss(y_test, y_predict_dl.flatten(), pos_label=1)"
      ]
    },
    {
      "cell_type": "markdown",
      "metadata": {
        "id": "JIHCVkjiRRQd"
      },
      "source": [
        "We can observe that the model performance is comparable to random forest model without much data preparation or data balancing."
      ]
    }
  ],
  "metadata": {
    "accelerator": "GPU",
    "colab": {
      "provenance": []
    },
    "kernelspec": {
      "display_name": "Python 3 (ipykernel)",
      "language": "python",
      "name": "python3"
    },
    "language_info": {
      "codemirror_mode": {
        "name": "ipython",
        "version": 3
      },
      "file_extension": ".py",
      "mimetype": "text/x-python",
      "name": "python",
      "nbconvert_exporter": "python",
      "pygments_lexer": "ipython3",
      "version": "3.10.8"
    }
  },
  "nbformat": 4,
  "nbformat_minor": 0
}